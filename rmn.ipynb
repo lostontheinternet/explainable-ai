{
 "cells": [
  {
   "cell_type": "code",
   "execution_count": 7,
   "metadata": {},
   "outputs": [],
   "source": [
    "from rmn import RMN\n",
    "import cv2"
   ]
  },
  {
   "cell_type": "code",
   "execution_count": 15,
   "metadata": {},
   "outputs": [
    {
     "name": "stdout",
     "output_type": "stream",
     "text": [
      "num faces: 7\n",
      "[{'xmin': 204, 'ymin': 220, 'xmax': 607, 'ymax': 623, 'emo_label': 'disgust', 'emo_proba': 0.4792252480983734, 'proba_list': [{'angry': 0.07675311714410782}, {'disgust': 0.4792252480983734}, {'fear': 0.02558050863444805}, {'happy': 0.0010106401750817895}, {'sad': 0.4015294313430786}, {'surprise': 0.00719299353659153}, {'neutral': 0.008708026260137558}]}, {'xmin': 47, 'ymin': 65, 'xmax': 434, 'ymax': 452, 'emo_label': 'disgust', 'emo_proba': 0.9470365047454834, 'proba_list': [{'angry': 0.0247578714042902}, {'disgust': 0.9470365047454834}, {'fear': 1.8258495401823893e-05}, {'happy': 5.814788437419338e-06}, {'sad': 0.027993744239211082}, {'surprise': 1.208547291753348e-05}, {'neutral': 0.00017563151777721941}]}]\n"
     ]
    },
    {
     "data": {
      "text/plain": [
       "True"
      ]
     },
     "execution_count": 15,
     "metadata": {},
     "output_type": "execute_result"
    }
   ],
   "source": [
    "model=RMN()\n",
    "impath = r\".\\affectnet\\train_class\\class006\\image0042446.jpg\"\n",
    "frame = cv2.imread(impath)\n",
    "results = model.detect_emotion_for_single_frame(frame)\n",
    "print(results)\n",
    "frame = model.draw(frame, results)\n",
    "cv2.imwrite(\"output.png\", frame)"
   ]
  }
 ],
 "metadata": {
  "kernelspec": {
   "display_name": "Python 3.10.7 64-bit",
   "language": "python",
   "name": "python3"
  },
  "language_info": {
   "codemirror_mode": {
    "name": "ipython",
    "version": 3
   },
   "file_extension": ".py",
   "mimetype": "text/x-python",
   "name": "python",
   "nbconvert_exporter": "python",
   "pygments_lexer": "ipython3",
   "version": "3.10.7"
  },
  "orig_nbformat": 4,
  "vscode": {
   "interpreter": {
    "hash": "039ab116451452510ca447eb63b80aa518f60cc8512d74b13f95ec8f0c23eae6"
   }
  }
 },
 "nbformat": 4,
 "nbformat_minor": 2
}
