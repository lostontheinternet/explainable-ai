{
 "cells": [
  {
   "cell_type": "code",
   "execution_count": 1,
   "metadata": {},
   "outputs": [
    {
     "name": "stderr",
     "output_type": "stream",
     "text": [
      "c:\\Users\\terai\\AppData\\Local\\Programs\\Python\\Python310\\lib\\site-packages\\tqdm\\auto.py:22: TqdmWarning: IProgress not found. Please update jupyter and ipywidgets. See https://ipywidgets.readthedocs.io/en/stable/user_install.html\n",
      "  from .autonotebook import tqdm as notebook_tqdm\n"
     ]
    }
   ],
   "source": [
    "from rmn import *\n",
    "from rise import RISE\n",
    "from img_functions import *"
   ]
  },
  {
   "cell_type": "markdown",
   "metadata": {},
   "source": [
    "## Loading images and building emotion recognition model"
   ]
  },
  {
   "cell_type": "code",
   "execution_count": 2,
   "metadata": {},
   "outputs": [
    {
     "name": "stdout",
     "output_type": "stream",
     "text": [
      "surprise 0.9982795715332031\n",
      "[{'angry': 0.0001317080605076626}, {'disgust': 9.018337550514843e-06}, {'fear': 5.816407792735845e-05}, {'happy': 1.0156225471291691e-05}, {'sad': 0.0005224092165008187}, {'surprise': 0.9982795715332031}, {'neutral': 0.0009890062501654029}]\n"
     ]
    }
   ],
   "source": [
    "rgb_imgs=load_images()\n",
    "im_test=rgb_imgs[0]\n",
    "\n",
    "# Display predictions for a single image\n",
    "predict = RMN()\n",
    "im_test_np = np.array(rgb_imgs[0])\n",
    "emo_label, emo_proba, emo_list = predict.detect_emotion_for_single_face_image(face_image=im_test_np)\n",
    "print(emo_label,emo_proba)\n",
    "print(emo_list)\n",
    "\n",
    "# Build model\n",
    "model = get_emo_model()"
   ]
  },
  {
   "cell_type": "markdown",
   "metadata": {},
   "source": [
    "## Building RISE model for emotion recognition model"
   ]
  },
  {
   "cell_type": "code",
   "execution_count": 3,
   "metadata": {},
   "outputs": [],
   "source": [
    "explainer = RISE(model,input_size=(224,224),gpu_batch=1)"
   ]
  },
  {
   "cell_type": "code",
   "execution_count": 4,
   "metadata": {},
   "outputs": [
    {
     "name": "stderr",
     "output_type": "stream",
     "text": [
      "Generating filters: 100%|██████████| 6000/6000 [00:08<00:00, 716.69it/s]\n"
     ]
    }
   ],
   "source": [
    "# Generate masks for RISE or use the saved ones.\n",
    "maskspath = 'masks.npy'\n",
    "generate_new = True\n",
    "\n",
    "if generate_new or not os.path.isfile(maskspath):\n",
    "    explainer.generate_masks(N=6000, s=8, p1=0.1, savepath=maskspath)\n",
    "else:\n",
    "    explainer.load_masks(maskspath)\n",
    "    print('Masks are loaded.')"
   ]
  },
  {
   "cell_type": "code",
   "execution_count": 5,
   "metadata": {},
   "outputs": [],
   "source": [
    "mean=[0.485, 0.456, 0.406]\n",
    "std=[0.229, 0.224, 0.225]\n",
    "normalize = transforms.Normalize(mean=mean,std=std)\n",
    "transform = transforms.Compose(transforms=[transforms.Resize(size=(224,224)),transforms.ToTensor()])\n",
    "input_tensor = transform(im_test.copy()).unsqueeze(0)"
   ]
  },
  {
   "cell_type": "markdown",
   "metadata": {},
   "source": [
    "## Displaying saliency maps"
   ]
  },
  {
   "cell_type": "code",
   "execution_count": 6,
   "metadata": {},
   "outputs": [],
   "source": [
    "def example(img, top_k=3):\n",
    "    saliency = np.array(explainer(img))\n",
    "    p, c = torch.topk(model(img), k=top_k)\n",
    "    p, c = p[0], c[0]\n",
    "    \n",
    "    plt.figure(figsize=(10, 5*top_k))\n",
    "    for k in range(top_k):\n",
    "        plt.subplot(top_k, 2, 2*k+1)\n",
    "        plt.axis('off')\n",
    "        plt.title('{:.2f}% {}'.format(100*p[k], get_class_name(c[k])))\n",
    "        tensor_imshow(img[0])\n",
    "\n",
    "        plt.subplot(top_k, 2, 2*k+2)\n",
    "        plt.axis('off')\n",
    "        plt.title(get_class_name(c[k]))\n",
    "        tensor_imshow(img[0])\n",
    "        sal = saliency[c[k]]\n",
    "        plt.imshow(sal, cmap='jet', alpha=0.5)\n",
    "        plt.colorbar(fraction=0.046, pad=0.04)\n",
    "\n",
    "    plt.show()"
   ]
  },
  {
   "cell_type": "code",
   "execution_count": 7,
   "metadata": {},
   "outputs": [],
   "source": [
    "example(input_tensor,top_k=1)"
   ]
  }
 ],
 "metadata": {
  "kernelspec": {
   "display_name": "Python 3.10.7 64-bit",
   "language": "python",
   "name": "python3"
  },
  "language_info": {
   "codemirror_mode": {
    "name": "ipython",
    "version": 3
   },
   "file_extension": ".py",
   "mimetype": "text/x-python",
   "name": "python",
   "nbconvert_exporter": "python",
   "pygments_lexer": "ipython3",
   "version": "3.10.7"
  },
  "orig_nbformat": 4,
  "vscode": {
   "interpreter": {
    "hash": "039ab116451452510ca447eb63b80aa518f60cc8512d74b13f95ec8f0c23eae6"
   }
  }
 },
 "nbformat": 4,
 "nbformat_minor": 2
}
